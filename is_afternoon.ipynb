{
  "nbformat": 4,
  "nbformat_minor": 0,
  "metadata": {
    "colab": {
      "provenance": [],
      "authorship_tag": "ABX9TyMxQ/BeG0oOW2m+o6nUF7i3",
      "include_colab_link": true
    },
    "kernelspec": {
      "name": "python3",
      "display_name": "Python 3"
    },
    "language_info": {
      "name": "python"
    }
  },
  "cells": [
    {
      "cell_type": "markdown",
      "metadata": {
        "id": "view-in-github",
        "colab_type": "text"
      },
      "source": [
        "<a href=\"https://colab.research.google.com/github/y1alshammari/python/blob/main/is_afternoon.ipynb\" target=\"_parent\"><img src=\"https://colab.research.google.com/assets/colab-badge.svg\" alt=\"Open In Colab\"/></a>"
      ]
    },
    {
      "cell_type": "code",
      "source": [
        "def is_afternoon():\n",
        "\n",
        "    time_input = input(\"Enter the time in 24 hour clock format (e.g. 1759): \")\n",
        "    hour = int(time_input) // 100\n",
        "    minutes = int(time_input) % 100\n",
        "\n",
        "    if hour >= 12:\n",
        "        am_pm = \"PM\"\n",
        "        if hour > 12:\n",
        "            hour -= 12\n",
        "    else:\n",
        "        am_pm = \"AM\"\n",
        "\n",
        "    text_time = str(hour) + \":\" + str(minutes).zfill(2) + am_pm\n",
        "    print(\"The time is\", text_time)\n",
        "\n",
        "is_afternoon()\n"
      ],
      "metadata": {
        "colab": {
          "base_uri": "https://localhost:8080/"
        },
        "id": "gOkRsIODfL1x",
        "outputId": "6a32bb51-d650-408f-b88d-93483e49e3a8"
      },
      "execution_count": 18,
      "outputs": [
        {
          "output_type": "stream",
          "name": "stdout",
          "text": [
            "Enter the time in 24 hour clock format (e.g. 1759): 1545\n",
            "The time is 3:45PM\n"
          ]
        }
      ]
    }
  ]
}