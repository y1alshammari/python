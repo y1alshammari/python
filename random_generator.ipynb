{
  "nbformat": 4,
  "nbformat_minor": 0,
  "metadata": {
    "colab": {
      "provenance": [],
      "authorship_tag": "ABX9TyP6EUMQ/aOr/modCDGlzsoP",
      "include_colab_link": true
    },
    "kernelspec": {
      "name": "python3",
      "display_name": "Python 3"
    },
    "language_info": {
      "name": "python"
    }
  },
  "cells": [
    {
      "cell_type": "markdown",
      "metadata": {
        "id": "view-in-github",
        "colab_type": "text"
      },
      "source": [
        "<a href=\"https://colab.research.google.com/github/y1alshammari/python/blob/main/random_generator.ipynb\" target=\"_parent\"><img src=\"https://colab.research.google.com/assets/colab-badge.svg\" alt=\"Open In Colab\"/></a>"
      ]
    },
    {
      "cell_type": "code",
      "source": [
        "from random import randint\n",
        "\n",
        "def random_generator():\n",
        "    total = 0\n",
        "    while True :\n",
        "        random_number = randint(1, 100)\n",
        "        total += random_number\n",
        "        print(random_number)\n",
        "        if random_number == 1:\n",
        "            break\n",
        "\n",
        "    print(total)\n",
        "    print(\"The final generated number is 1.\")\n",
        "\n",
        "random_generator()\n"
      ],
      "metadata": {
        "colab": {
          "base_uri": "https://localhost:8080/"
        },
        "id": "fEjEZMn0XXVU",
        "outputId": "409e5240-3ee3-48f8-c400-8575b251a525"
      },
      "execution_count": 5,
      "outputs": [
        {
          "output_type": "stream",
          "name": "stdout",
          "text": [
            "87\n",
            "16\n",
            "92\n",
            "61\n",
            "21\n",
            "59\n",
            "42\n",
            "22\n",
            "84\n",
            "47\n",
            "50\n",
            "81\n",
            "52\n",
            "84\n",
            "88\n",
            "11\n",
            "31\n",
            "1\n",
            "929\n",
            "The final generated number is 1.\n"
          ]
        }
      ]
    }
  ]
}