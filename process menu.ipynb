{
  "nbformat": 4,
  "nbformat_minor": 0,
  "metadata": {
    "colab": {
      "provenance": [],
      "authorship_tag": "ABX9TyPMOZYyjMCeFKyxgBl/a8co",
      "include_colab_link": true
    },
    "kernelspec": {
      "name": "python3",
      "display_name": "Python 3"
    },
    "language_info": {
      "name": "python"
    }
  },
  "cells": [
    {
      "cell_type": "markdown",
      "metadata": {
        "id": "view-in-github",
        "colab_type": "text"
      },
      "source": [
        "<a href=\"https://colab.research.google.com/github/y1alshammari/python/blob/main/process%20menu.ipynb\" target=\"_parent\"><img src=\"https://colab.research.google.com/assets/colab-badge.svg\" alt=\"Open In Colab\"/></a>"
      ]
    },
    {
      "cell_type": "code",
      "execution_count": 9,
      "metadata": {
        "colab": {
          "base_uri": "https://localhost:8080/"
        },
        "id": "15rn8OtoWhXZ",
        "outputId": "afd5e015-b511-422d-b658-b71139819145"
      },
      "outputs": [
        {
          "output_type": "stream",
          "name": "stdout",
          "text": [
            "What value would you like to see?\n",
            "\n",
            "1. Pi\n",
            "2. Plank’s constant\n",
            "3. E\n",
            "4. Square root of 2\n",
            "Enter your choice (1-4): 5\n",
            "5\n"
          ]
        }
      ],
      "source": [
        "def process_menu():\n",
        "    print(\"What value would you like to see?\\n\")\n",
        "    print(\"1. Pi\")\n",
        "    print(\"2. Plank’s constant\")\n",
        "    print(\"3. E\")\n",
        "    print(\"4. Square root of 2\")\n",
        "\n",
        "    menu_option = input(\"Enter your choice (1-4): \")\n",
        "\n",
        "    if menu_option.isdigit() and 1 >= int(menu_option) >= 4:\n",
        "       print(\"invalid choice\")\n",
        "    else:\n",
        "        print(menu_option)\n",
        "\n",
        "\n",
        "process_menu()\n"
      ]
    }
  ]
}