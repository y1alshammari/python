{
  "nbformat": 4,
  "nbformat_minor": 0,
  "metadata": {
    "colab": {
      "provenance": [],
      "authorship_tag": "ABX9TyMK6RocbH3/vPa79wNGxtPj",
      "include_colab_link": true
    },
    "kernelspec": {
      "name": "python3",
      "display_name": "Python 3"
    },
    "language_info": {
      "name": "python"
    }
  },
  "cells": [
    {
      "cell_type": "markdown",
      "metadata": {
        "id": "view-in-github",
        "colab_type": "text"
      },
      "source": [
        "<a href=\"https://colab.research.google.com/github/y1alshammari/python/blob/main/calculate.ipynb\" target=\"_parent\"><img src=\"https://colab.research.google.com/assets/colab-badge.svg\" alt=\"Open In Colab\"/></a>"
      ]
    },
    {
      "cell_type": "code",
      "source": [
        "def calculate():\n",
        "\n",
        "    num1 = int(input(\"Enter the first number: \"))\n",
        "    num2 = int(input(\"Enter the second number: \"))\n",
        "    operator = input(\"Enter the operator (+, -, *, /): \")\n",
        "\n",
        "\n",
        "    if operator == \"+\":\n",
        "        result = num1 + num2\n",
        "    elif operator == \"-\":\n",
        "        result = num1 - num2\n",
        "    elif operator == \"*\":\n",
        "        result = num1 * num2\n",
        "    elif operator == \"/\":\n",
        "\n",
        "        if num2 != 0:\n",
        "            result = num1 / num2\n",
        "        else:\n",
        "            print(\"Error: Division by zero is not allowed.\")\n",
        "            return\n",
        "    else:\n",
        "        print(\"Invalid operator\")\n",
        "        return\n",
        "\n",
        "\n",
        "    print(f\"Your answer is {result}\")\n",
        "\n",
        "\n",
        "calculate()\n"
      ],
      "metadata": {
        "colab": {
          "base_uri": "https://localhost:8080/"
        },
        "id": "NAQMrrxniclK",
        "outputId": "4d0c19f1-443e-4928-a684-ee9b80feb9ad"
      },
      "execution_count": 32,
      "outputs": [
        {
          "output_type": "stream",
          "name": "stdout",
          "text": [
            "Enter the first number: 600\n",
            "Enter the second number: 2\n",
            "Enter the operator (+, -, *, /): /\n",
            "Your answer is 300.0\n"
          ]
        }
      ]
    }
  ]
}