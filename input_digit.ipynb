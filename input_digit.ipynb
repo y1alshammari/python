{
  "nbformat": 4,
  "nbformat_minor": 0,
  "metadata": {
    "colab": {
      "provenance": [],
      "authorship_tag": "ABX9TyMWbeBADuaNo+lPhcK8vXYv",
      "include_colab_link": true
    },
    "kernelspec": {
      "name": "python3",
      "display_name": "Python 3"
    },
    "language_info": {
      "name": "python"
    }
  },
  "cells": [
    {
      "cell_type": "markdown",
      "metadata": {
        "id": "view-in-github",
        "colab_type": "text"
      },
      "source": [
        "<a href=\"https://colab.research.google.com/github/y1alshammari/python/blob/main/input_digit.ipynb\" target=\"_parent\"><img src=\"https://colab.research.google.com/assets/colab-badge.svg\" alt=\"Open In Colab\"/></a>"
      ]
    },
    {
      "cell_type": "code",
      "execution_count": null,
      "metadata": {
        "id": "t_lRCw3r2jZr"
      },
      "outputs": [],
      "source": [
        "def input_digit():\n",
        "   while True:\n",
        "        number = input(\"Enter a number between 0 and 9: \")\n",
        "\n",
        "        if number.isdigit():\n",
        "            number = int(number)\n",
        "\n",
        "            if 0 <= number <= 9:\n",
        "                return number\n",
        "            else:\n",
        "                print(\"That number is not valid, try again\")\n",
        "        else:\n",
        "            print(\"Invalid input, please enter a valid number.\")\n",
        "\n",
        "\n",
        "result = input_digit()\n",
        "print(result)\n"
      ]
    }
  ]
}