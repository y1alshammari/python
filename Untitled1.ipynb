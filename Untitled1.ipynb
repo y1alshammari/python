{
  "nbformat": 4,
  "nbformat_minor": 0,
  "metadata": {
    "colab": {
      "provenance": [],
      "authorship_tag": "ABX9TyMD2Lt0jdPj0HBPcEM/0Op7",
      "include_colab_link": true
    },
    "kernelspec": {
      "name": "python3",
      "display_name": "Python 3"
    },
    "language_info": {
      "name": "python"
    }
  },
  "cells": [
    {
      "cell_type": "markdown",
      "metadata": {
        "id": "view-in-github",
        "colab_type": "text"
      },
      "source": [
        "<a href=\"https://colab.research.google.com/github/y1alshammari/python/blob/main/Untitled1.ipynb\" target=\"_parent\"><img src=\"https://colab.research.google.com/assets/colab-badge.svg\" alt=\"Open In Colab\"/></a>"
      ]
    },
    {
      "cell_type": "code",
      "execution_count": 7,
      "metadata": {
        "colab": {
          "base_uri": "https://localhost:8080/"
        },
        "id": "TSmwBD_Izq9X",
        "outputId": "82a1dd0b-573c-4ddc-dfa8-6f056d8da188"
      },
      "outputs": [
        {
          "output_type": "stream",
          "name": "stdout",
          "text": [
            "what year where you born?1997\n",
            "you are too young to drive a car\n"
          ]
        }
      ],
      "source": [
        "from datetime import datetime\n",
        "\n",
        "def drive_age():\n",
        "    birth_year = int(input(\"what year where you born?\"))\n",
        "    current_year =2006\n",
        "    age = current_year - birth_year\n",
        "    if age<17:\n",
        "      print(\"you are too young to drive a car\")\n",
        "drive_age()"
      ]
    }
  ]
}