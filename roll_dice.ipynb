{
  "nbformat": 4,
  "nbformat_minor": 0,
  "metadata": {
    "colab": {
      "provenance": [],
      "authorship_tag": "ABX9TyPbBpxqa4QS47R7xD9Ejnu1",
      "include_colab_link": true
    },
    "kernelspec": {
      "name": "python3",
      "display_name": "Python 3"
    },
    "language_info": {
      "name": "python"
    }
  },
  "cells": [
    {
      "cell_type": "markdown",
      "metadata": {
        "id": "view-in-github",
        "colab_type": "text"
      },
      "source": [
        "<a href=\"https://colab.research.google.com/github/y1alshammari/python/blob/main/roll_dice.ipynb\" target=\"_parent\"><img src=\"https://colab.research.google.com/assets/colab-badge.svg\" alt=\"Open In Colab\"/></a>"
      ]
    },
    {
      "cell_type": "code",
      "source": [
        "from random import randint\n",
        "\n",
        "def roll_dice():\n",
        "    doubles_count = 0\n",
        "    for _ in range(6):\n",
        "        dice1 = randint(1, 6)\n",
        "        dice2 = randint(1, 6)\n",
        "\n",
        "        print(f\"{dice1} {dice2}\")\n",
        "\n",
        "        if dice1 == dice2:\n",
        "            doubles_count += 1\n",
        "\n",
        "    print(f\"Number of doubles: {doubles_count}\")\n",
        "\n",
        "roll_dice()\n"
      ],
      "metadata": {
        "colab": {
          "base_uri": "https://localhost:8080/"
        },
        "id": "XZbLtrR_bO_0",
        "outputId": "57355dec-9ec5-4d02-bf16-617df82c598e"
      },
      "execution_count": 23,
      "outputs": [
        {
          "output_type": "stream",
          "name": "stdout",
          "text": [
            "1 2\n",
            "4 3\n",
            "4 4\n",
            "4 1\n",
            "2 1\n",
            "6 2\n",
            "Number of doubles: 1\n"
          ]
        }
      ]
    }
  ]
}