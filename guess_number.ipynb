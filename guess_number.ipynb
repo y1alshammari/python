{
  "nbformat": 4,
  "nbformat_minor": 0,
  "metadata": {
    "colab": {
      "provenance": [],
      "authorship_tag": "ABX9TyMq+wjo1jZEn+xtHl0J8eR5",
      "include_colab_link": true
    },
    "kernelspec": {
      "name": "python3",
      "display_name": "Python 3"
    },
    "language_info": {
      "name": "python"
    }
  },
  "cells": [
    {
      "cell_type": "markdown",
      "metadata": {
        "id": "view-in-github",
        "colab_type": "text"
      },
      "source": [
        "<a href=\"https://colab.research.google.com/github/y1alshammari/python/blob/main/guess_number.ipynb\" target=\"_parent\"><img src=\"https://colab.research.google.com/assets/colab-badge.svg\" alt=\"Open In Colab\"/></a>"
      ]
    },
    {
      "cell_type": "code",
      "source": [
        "from random import randint\n",
        "\n",
        "def guess_number(random_number):\n",
        "\n",
        "        guess = int(input(\"Enter your guess (between 1 and 100): \"))\n",
        "        if guess > random_number:\n",
        "            print(\"Too high\")\n",
        "        elif guess < random_number:\n",
        "            print(\"Too low\")\n",
        "\n",
        "guess_number(randint(1,100))\n",
        "\n"
      ],
      "metadata": {
        "colab": {
          "base_uri": "https://localhost:8080/"
        },
        "id": "Zu-RNZK0b3VM",
        "outputId": "76688e10-5f8d-494a-c1e0-e4f94055554a"
      },
      "execution_count": 16,
      "outputs": [
        {
          "output_type": "stream",
          "name": "stdout",
          "text": [
            "Enter your guess (between 1 and 100): 66\n",
            "Too high\n"
          ]
        }
      ]
    }
  ]
}