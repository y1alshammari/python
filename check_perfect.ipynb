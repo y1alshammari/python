{
  "nbformat": 4,
  "nbformat_minor": 0,
  "metadata": {
    "colab": {
      "provenance": [],
      "authorship_tag": "ABX9TyMmMh/mLAkume1/jWaK+9P5",
      "include_colab_link": true
    },
    "kernelspec": {
      "name": "python3",
      "display_name": "Python 3"
    },
    "language_info": {
      "name": "python"
    }
  },
  "cells": [
    {
      "cell_type": "markdown",
      "metadata": {
        "id": "view-in-github",
        "colab_type": "text"
      },
      "source": [
        "<a href=\"https://colab.research.google.com/github/y1alshammari/python/blob/main/check_perfect.ipynb\" target=\"_parent\"><img src=\"https://colab.research.google.com/assets/colab-badge.svg\" alt=\"Open In Colab\"/></a>"
      ]
    },
    {
      "cell_type": "code",
      "source": [
        "def check_perfect():\n",
        "    number = int(input(\"Enter a number to check if it is perfect: \"))\n",
        "    sum_of_factors = 0\n",
        "\n",
        "    for i in range(1, number):\n",
        "        if number % i == 0:\n",
        "            sum_of_factors += i\n",
        "\n",
        "    if sum_of_factors == number:\n",
        "        print(f\"{number} is perfect\")\n",
        "    else:\n",
        "        print(f\"{number} is not perfect\")\n",
        "\n",
        "check_perfect()\n"
      ],
      "metadata": {
        "colab": {
          "base_uri": "https://localhost:8080/"
        },
        "id": "_hp05oQdgyGT",
        "outputId": "a95d0f9b-a6f2-4547-a582-0fbc63b482f8"
      },
      "execution_count": 36,
      "outputs": [
        {
          "output_type": "stream",
          "name": "stdout",
          "text": [
            "Enter a number to check if it is perfect: 6\n",
            "6 is perfect\n"
          ]
        }
      ]
    }
  ]
}