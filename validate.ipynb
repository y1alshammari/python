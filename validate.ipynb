{
  "nbformat": 4,
  "nbformat_minor": 0,
  "metadata": {
    "colab": {
      "provenance": [],
      "authorship_tag": "ABX9TyNvTni6xXMVgPNcyd/9aL8v",
      "include_colab_link": true
    },
    "kernelspec": {
      "name": "python3",
      "display_name": "Python 3"
    },
    "language_info": {
      "name": "python"
    }
  },
  "cells": [
    {
      "cell_type": "markdown",
      "metadata": {
        "id": "view-in-github",
        "colab_type": "text"
      },
      "source": [
        "<a href=\"https://colab.research.google.com/github/y1alshammari/python/blob/main/validate.ipynb\" target=\"_parent\"><img src=\"https://colab.research.google.com/assets/colab-badge.svg\" alt=\"Open In Colab\"/></a>"
      ]
    },
    {
      "cell_type": "code",
      "source": [
        "def validate():\n",
        "  number = int(input(\"enter your number between 1 and 100:\"))\n",
        "  if 1 <= number <= 100 :\n",
        "    print (\"Your number was\", number)\n",
        "  else :\n",
        "    print (\"Number out of limits\")\n",
        "\n",
        "validate()"
      ],
      "metadata": {
        "colab": {
          "base_uri": "https://localhost:8080/"
        },
        "id": "uPvr_gW3i2Fr",
        "outputId": "b193137c-1ccb-4890-8de8-3da257b87d76"
      },
      "execution_count": 29,
      "outputs": [
        {
          "output_type": "stream",
          "name": "stdout",
          "text": [
            "enter your number between 1 and 100:150\n",
            "Number out of limits\n"
          ]
        }
      ]
    }
  ]
}