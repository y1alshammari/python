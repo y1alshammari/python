{
  "nbformat": 4,
  "nbformat_minor": 0,
  "metadata": {
    "colab": {
      "provenance": [],
      "authorship_tag": "ABX9TyNbh3GAE7+A0Sud24nSVW7+",
      "include_colab_link": true
    },
    "kernelspec": {
      "name": "python3",
      "display_name": "Python 3"
    },
    "language_info": {
      "name": "python"
    }
  },
  "cells": [
    {
      "cell_type": "markdown",
      "metadata": {
        "id": "view-in-github",
        "colab_type": "text"
      },
      "source": [
        "<a href=\"https://colab.research.google.com/github/y1alshammari/python/blob/main/process_menu_options.ipynb\" target=\"_parent\"><img src=\"https://colab.research.google.com/assets/colab-badge.svg\" alt=\"Open In Colab\"/></a>"
      ]
    },
    {
      "cell_type": "code",
      "execution_count": 15,
      "metadata": {
        "colab": {
          "base_uri": "https://localhost:8080/"
        },
        "id": "15rn8OtoWhXZ",
        "outputId": "4e1673a3-6351-417f-9b57-92731f9c7285"
      },
      "outputs": [
        {
          "output_type": "stream",
          "name": "stdout",
          "text": [
            "What value would you like to see?\n",
            "1. Pi\n",
            "2. Plank’s constant\n",
            "3. E\n",
            "4. Square root of 2\n",
            "Enter your choice : 4\n",
            "1.414\n"
          ]
        }
      ],
      "source": [
        "def process_menu_options():\n",
        "    print (\"What value would you like to see?\")\n",
        "    print(\"1. Pi\")\n",
        "    print(\"2. Plank’s constant\")\n",
        "    print(\"3. E\")\n",
        "    print(\"4. Square root of 2\")\n",
        "\n",
        "    menu_option = input(\"Enter your choice : \")\n",
        "\n",
        "    if menu_option == \"1\" :\n",
        "       print (\"3.14159265359\")\n",
        "    elif menu_option == \"2\":\n",
        "       print(\"6.62607004E-34\")\n",
        "    elif menu_option == \"3\" :\n",
        "       print (\"2.71828\")\n",
        "    elif menu_option == \"4\" :\n",
        "       print (\"1.414\")\n",
        "    else :\n",
        "       print (\"Invalid choice\")\n",
        "\n",
        "\n",
        "process_menu_options()\n"
      ]
    }
  ]
}