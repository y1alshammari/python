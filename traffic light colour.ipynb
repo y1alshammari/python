{
  "nbformat": 4,
  "nbformat_minor": 0,
  "metadata": {
    "colab": {
      "provenance": [],
      "authorship_tag": "ABX9TyPSBevhNI77WdPyS7uhKnE8",
      "include_colab_link": true
    },
    "kernelspec": {
      "name": "python3",
      "display_name": "Python 3"
    },
    "language_info": {
      "name": "python"
    }
  },
  "cells": [
    {
      "cell_type": "markdown",
      "metadata": {
        "id": "view-in-github",
        "colab_type": "text"
      },
      "source": [
        "<a href=\"https://colab.research.google.com/github/y1alshammari/python/blob/main/traffic%20light%20colour.ipynb\" target=\"_parent\"><img src=\"https://colab.research.google.com/assets/colab-badge.svg\" alt=\"Open In Colab\"/></a>"
      ]
    },
    {
      "cell_type": "code",
      "source": [
        "def act_on_light():\n",
        "\n",
        "  traffic_light_colour = input(\"enter a traffic light colour\")\n",
        "\n",
        "  if traffic_light_colour == \"amber\" :\n",
        "      print (\"Be ready to stop\")\n",
        "  elif traffic_light_colour == \"green\" :\n",
        "      print (\"Continue forward\")\n",
        "  elif traffic_light_colour == \"red\" :\n",
        "      print (\"Get ready to go\")\n",
        "  else :\n",
        "      print (\"there is not a traffic light colour\")\n",
        "\n",
        "\n",
        "act_on_light()\n"
      ],
      "metadata": {
        "colab": {
          "base_uri": "https://localhost:8080/"
        },
        "id": "yjB4B64sc_ks",
        "outputId": "1f141cdc-bc04-4f21-b8b6-af55e2233893"
      },
      "execution_count": 28,
      "outputs": [
        {
          "output_type": "stream",
          "name": "stdout",
          "text": [
            "enter a traffic light colourblue\n",
            "there is not a traffic light colour\n"
          ]
        }
      ]
    }
  ]
}