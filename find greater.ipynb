{
  "nbformat": 4,
  "nbformat_minor": 0,
  "metadata": {
    "colab": {
      "provenance": [],
      "authorship_tag": "ABX9TyOwlmTOu899AQwbMsU/iv3w",
      "include_colab_link": true
    },
    "kernelspec": {
      "name": "python3",
      "display_name": "Python 3"
    },
    "language_info": {
      "name": "python"
    }
  },
  "cells": [
    {
      "cell_type": "markdown",
      "metadata": {
        "id": "view-in-github",
        "colab_type": "text"
      },
      "source": [
        "<a href=\"https://colab.research.google.com/github/y1alshammari/python/blob/main/find%20greater.ipynb\" target=\"_parent\"><img src=\"https://colab.research.google.com/assets/colab-badge.svg\" alt=\"Open In Colab\"/></a>"
      ]
    },
    {
      "cell_type": "code",
      "execution_count": 10,
      "metadata": {
        "colab": {
          "base_uri": "https://localhost:8080/"
        },
        "id": "3StA_4g3UNzV",
        "outputId": "3a575e5f-83c7-4969-92e3-bf98bd7e46f6"
      },
      "outputs": [
        {
          "output_type": "stream",
          "name": "stdout",
          "text": [
            "Enter the first number: 33\n",
            "Enter the second number: 11\n",
            "(num1) is greater than (num2)\n"
          ]
        }
      ],
      "source": [
        "def find_greater():\n",
        "    num1 = int(input(\"Enter the first number: \"))\n",
        "    num2 = int(input(\"Enter the second number: \"))\n",
        "    if num1 > num2:\n",
        "        print(\"(num1) is greater than (num2)\")\n",
        "    elif num1 < num2:\n",
        "        print(\"(num1) is greater than (num2)\")\n",
        "    else:\n",
        "        print(\"Both numbers are equal.\")\n",
        "\n",
        "find_greater()"
      ]
    }
  ]
}